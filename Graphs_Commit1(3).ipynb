{
 "cells": [
  {
   "cell_type": "code",
   "execution_count": null,
   "metadata": {},
   "outputs": [],
   "source": [
    "import warnings\n",
    "warnings.filterwarnings('ignore')"
   ]
  },
  {
   "cell_type": "code",
   "execution_count": null,
   "metadata": {},
   "outputs": [],
   "source": [
    "import numpy as np\n",
    "import pandas as pd\n",
    "import scipy.stats as stats\n",
    "import matplotlib.pyplot as plt\n",
    "import hvplot.pandas\n"
   ]
  },
  {
   "cell_type": "code",
   "execution_count": null,
   "metadata": {},
   "outputs": [],
   "source": [
    "wage_data = pd.read_csv(r\"E:\\Minimum Wage Data.csv\",encoding=\"latin1\")\n",
    "state_data = pd.read_csv(r\"E:\\state_coords.csv\",encoding=\"latin1\")\n",
    "merged_df = pd.merge(wage_data, state_data, left_on=\"State\", right_on=\"State\", how=\"inner\")\n",
    "merged_df = merged_df.drop(columns=\"Footnote\")\n",
    "merged_df = merged_df.drop(columns= \"Department.Of.Labor.Uncleaned.Data\")\n",
    "df=pd.DataFrame(merged_df)\n",
    "df.head()\n",
    "\n"
   ]
  },
  {
   "cell_type": "code",
   "execution_count": null,
   "metadata": {},
   "outputs": [],
   "source": [
    "df.tail()"
   ]
  },
  {
   "cell_type": "code",
   "execution_count": null,
   "metadata": {},
   "outputs": [],
   "source": [
    "# Extract data for 1968, 1994, and 2020\n",
    "minimum_wage_1968 = df[df['Year'] == 1968]['State.Minimum.Wage']\n",
    "minimum_wage_1994 = df[df['Year'] == 1994]['State.Minimum.Wage']\n",
    "minimum_wage_2020 = df[df['Year'] == 2020]['State.Minimum.Wage']\n",
    "\n",
    "# Create box plots\n",
    "plt.figure(figsize=(10, 6))\n",
    "\n",
    "# Plot box plots for 1968, 1994, and 2020\n",
    "plt.boxplot([minimum_wage_1968, minimum_wage_1994, minimum_wage_2020], positions=[1, 2, 3], labels=['1968', '1994', '2020'])\n",
    "\n",
    "# Set x-axis limits\n",
    "plt.xlim(0.5, 3.5)\n",
    "\n",
    "plt.xlabel('Year')\n",
    "plt.ylabel('Minimum Wage ($)')\n",
    "plt.title('Minimum Wage Distribution in 1968, 1994, and 2020')\n",
    "plt.grid(True)\n",
    "plt.legend()\n",
    "plt.show()"
   ]
  },
  {
   "cell_type": "code",
   "execution_count": null,
   "metadata": {},
   "outputs": [],
   "source": [
    "minimum_wage_1994_inflation = df[df['Year'] == 1994]['State.Minimum.Wage.2020.Dollars']\n",
    "minimum_wage_1968_inflation = df[df['Year'] == 1968]['State.Minimum.Wage.2020.Dollars']\n",
    "minimum_wage_2020_inflation = df[df['Year'] == 2020]['State.Minimum.Wage.2020.Dollars']"
   ]
  },
  {
   "cell_type": "code",
   "execution_count": null,
   "metadata": {},
   "outputs": [],
   "source": [
    "average_state_minimum_wage_inflation=[minimum_wage_1968_inflation.mean(), minimum_wage_1994_inflation.mean(), minimum_wage_2020_inflation.mean()]\n",
    "average_state_minimum_wage_inflation"
   ]
  },
  {
   "cell_type": "code",
   "execution_count": null,
   "metadata": {},
   "outputs": [],
   "source": [
    "minimum_wage_1968_fed = df[df['Year'] == 1968]['Federal.Minimum.Wage.2020.Dollars']\n",
    "minimum_wage_1994_fed = df[df['Year'] == 1994]['Federal.Minimum.Wage.2020.Dollars']\n",
    "minimum_wage_2020_fed = df[df['Year'] == 2020]['Federal.Minimum.Wage.2020.Dollars']"
   ]
  },
  {
   "cell_type": "code",
   "execution_count": null,
   "metadata": {},
   "outputs": [],
   "source": [
    "average_fed_minimum_wage_inflation=[minimum_wage_1968_fed.mean(), minimum_wage_1994_fed.mean(), minimum_wage_2020_fed.mean()]\n",
    "average_fed_minimum_wage_inflation"
   ]
  },
  {
   "cell_type": "code",
   "execution_count": null,
   "metadata": {},
   "outputs": [],
   "source": [
    "# Create line plot for federal minimum wage\n",
    "plt.plot(federal_minimum_wage_years, average_fed_minimum_wage_inflation, marker='o', color='r', label='Federal Minimum Wage (2020$)')\n",
    "\n",
    "# Create line plot for average state minimum wage\n",
    "plt.plot(federal_minimum_wage_years, average_state_minimum_wage_inflation, marker='o', color='b', label='Average State Minimum Wage (2020 $)')\n",
    "\n",
    "plt.xlabel('Year')\n",
    "plt.ylabel('Inflation Adjusted Minimum Wage (2020 $)')\n",
    "plt.title('Inflation Adjusted Minimum Wage (2020 $)')\n",
    "plt.grid(True)\n",
    "plt.ylim(4,10)\n",
    "plt.legend()\n",
    "plt.show()\n"
   ]
  },
  {
   "cell_type": "code",
   "execution_count": null,
   "metadata": {},
   "outputs": [],
   "source": [
    "# Extract data for 1968, 1994, and 2020\n",
    "minimum_wage_1968 = df[df['Year'] == 1968]['State.Minimum.Wage']\n",
    "minimum_wage_1994 = df[df['Year'] == 1994]['State.Minimum.Wage']\n",
    "minimum_wage_2020 = df[df['Year'] == 2020]['State.Minimum.Wage']\n",
    "\n",
    "# Calculate average state minimum wage for 1968, 1994, and 2020\n",
    "average_state_minimum_wage = [minimum_wage_1968.mean(), minimum_wage_1994.mean(), minimum_wage_2020.mean()]\n",
    "\n",
    "# Federal minimum wage data\n",
    "federal_minimum_wage_years = [1968, 1994, 2020]\n",
    "federal_minimum_wages = [1.6, 4.25, 7.25]  # Example federal minimum wage values for the corresponding years\n",
    "\n",
    "# Create line plot for federal minimum wage\n",
    "plt.plot(federal_minimum_wage_years, federal_minimum_wages, marker='o', color='r', label='Federal Minimum Wage')\n",
    "\n",
    "# Create line plot for average state minimum wage\n",
    "plt.plot(federal_minimum_wage_years, average_state_minimum_wage, marker='o', color='b', label='Average State Minimum Wage')\n",
    "\n",
    "plt.xlabel('Year')\n",
    "plt.ylabel('Minimum Wage ($)')\n",
    "plt.title('Minimum Wage Distribution in 1968, 1994, and 2020')\n",
    "plt.grid(True)\n",
    "plt.legend()\n",
    "plt.show()"
   ]
  },
  {
   "cell_type": "code",
   "execution_count": null,
   "metadata": {},
   "outputs": [],
   "source": [
    "print(minimum_wage_1968.mean())\n",
    "print(minimum_wage_1994.mean()) \n",
    "print(minimum_wage_2020.mean())"
   ]
  },
  {
   "cell_type": "code",
   "execution_count": null,
   "metadata": {},
   "outputs": [],
   "source": [
    "1.6\n",
    "4.25\n",
    "7.25"
   ]
  },
  {
   "cell_type": "code",
   "execution_count": null,
   "metadata": {},
   "outputs": [],
   "source": [
    "stats.f_oneway(minimum_wage_1968, minimum_wage_1994, minimum_wage_2020)"
   ]
  },
  {
   "cell_type": "code",
   "execution_count": null,
   "metadata": {},
   "outputs": [],
   "source": [
    "df_1994=df[df[\"Year\"]==1994]\n",
    "df_1994"
   ]
  },
  {
   "cell_type": "code",
   "execution_count": null,
   "metadata": {},
   "outputs": [],
   "source": [
    "df_1994[\"State.Minimum.Wage\"]"
   ]
  },
  {
   "cell_type": "code",
   "execution_count": null,
   "metadata": {},
   "outputs": [],
   "source": [
    "df_2020 = df[df['Year'] == 2020]\n",
    "df_2020.head()"
   ]
  },
  {
   "cell_type": "code",
   "execution_count": null,
   "metadata": {},
   "outputs": [],
   "source": [
    "df_2020['Difference_2020'] = df_2020['State.Minimum.Wage'] - df_2020['Federal.Minimum.Wage']\n",
    "df_2020[\"State.Min.1994\"]=df_1994[\"State.Minimum.Wage\"]\n",
    "df_2020"
   ]
  },
  {
   "cell_type": "code",
   "execution_count": null,
   "metadata": {},
   "outputs": [],
   "source": [
    "negative_diff_df = df_2020[df_2020['Difference_2020'] < 0]"
   ]
  },
  {
   "cell_type": "code",
   "execution_count": null,
   "metadata": {},
   "outputs": [],
   "source": [
    "plt.figure(figsize=(12,8))\n",
    "plt.bar(df_2020['State'], df_2020['Difference_2020'], color='skyblue')\n",
    "plt.xlabel('State')\n",
    "plt.ylabel('Difference in Minimum Wage ($)')\n",
    "plt.xticks(rotation = 90)\n",
    "plt.title('State vs Federal Minimum Wage (2020)')\n",
    "plt.grid(axis='y')\n",
    "plt.show()\n"
   ]
  },
  {
   "cell_type": "code",
   "execution_count": null,
   "metadata": {},
   "outputs": [],
   "source": [
    "plt.figure(figsize=(12, 8))\n",
    "plt.bar(negative_diff_df['State'], negative_diff_df['Difference_2020'], color='salmon')\n",
    "plt.xticks(rotation=90)\n",
    "plt.xlabel('State')\n",
    "plt.ylabel('Difference in Minimum Wage ($)')\n",
    "plt.title('States with Negative Difference in Minimum Wage (2020)')\n",
    "plt.grid(axis='y')\n",
    "plt.show()"
   ]
  },
  {
   "cell_type": "code",
   "execution_count": null,
   "metadata": {},
   "outputs": [],
   "source": [
    "# Plotting a map to plot regionality and show differences in minimum wage per state\n",
    "# 1994 vs 2020\n",
    "# changing point color by difference in values\n",
    "map_plot_1 = df_2020.hvplot.points(\n",
    "    \"longitude\",\n",
    "    \"latitude\",\n",
    "    geo = True,\n",
    "    tiles = \"OSM\"\n",
    ")\n",
    "map_plot_1\n"
   ]
  },
  {
   "cell_type": "code",
   "execution_count": null,
   "metadata": {},
   "outputs": [],
   "source": [
    "map_plot_2 = df_1994.hvplot.points(\n",
    "    \"longitude\",\n",
    "    \"latitude\",\n",
    "    geo = True,\n",
    "    tiles = \"OSM\",\n",
    "    color = \"red\"\n",
    ")\n",
    "map_plot_2\n"
   ]
  }
 ],
 "metadata": {
  "kernelspec": {
   "display_name": "base",
   "language": "python",
   "name": "python3"
  },
  "language_info": {
   "codemirror_mode": {
    "name": "ipython",
    "version": 3
   },
   "file_extension": ".py",
   "mimetype": "text/x-python",
   "name": "python",
   "nbconvert_exporter": "python",
   "pygments_lexer": "ipython3",
   "version": "3.11.7"
  }
 },
 "nbformat": 4,
 "nbformat_minor": 2
}
